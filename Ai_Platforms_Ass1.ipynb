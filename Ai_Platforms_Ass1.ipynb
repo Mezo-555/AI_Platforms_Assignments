{
  "nbformat": 4,
  "nbformat_minor": 0,
  "metadata": {
    "colab": {
      "provenance": [],
      "authorship_tag": "ABX9TyP3vb48+T5xuvB79VvWk9sL",
      "include_colab_link": true
    },
    "kernelspec": {
      "name": "python3",
      "display_name": "Python 3"
    },
    "language_info": {
      "name": "python"
    }
  },
  "cells": [
    {
      "cell_type": "markdown",
      "metadata": {
        "id": "view-in-github",
        "colab_type": "text"
      },
      "source": [
        "<a href=\"https://colab.research.google.com/github/Mezo-555/AI_Platforms_Assignments/blob/main/Ai_Platforms_Ass1.ipynb\" target=\"_parent\"><img src=\"https://colab.research.google.com/assets/colab-badge.svg\" alt=\"Open In Colab\"/></a>"
      ]
    },
    {
      "cell_type": "code",
      "source": [
        "# Import modules\n",
        "import torch\n",
        "import torch.nn as nn"
      ],
      "metadata": {
        "id": "tu5sIS_70C4t"
      },
      "execution_count": 1,
      "outputs": []
    },
    {
      "cell_type": "code",
      "source": [
        "class ManualNN(nn.Module):\n",
        "    def __init__(self):\n",
        "        super().__init__()\n",
        "\n",
        "        # Layer 1 (3 neurons)\n",
        "        self.w00 = nn.Parameter(torch.tensor(0.8))\n",
        "        self.b00 = nn.Parameter(torch.tensor(-0.1))\n",
        "        self.w01 = nn.Parameter(torch.tensor(-0.3))\n",
        "        self.b01 = nn.Parameter(torch.tensor(0.5))\n",
        "        self.w02 = nn.Parameter(torch.tensor(0.2))\n",
        "        self.b02 = nn.Parameter(torch.tensor(0.0))\n",
        "\n",
        "        # Layer 2 (2 neurons, each takes 3 inputs)\n",
        "        self.W1_0 = nn.Parameter(torch.tensor([0.5, -1.0, 0.25]))\n",
        "        self.b1_0 = nn.Parameter(torch.tensor(0.1))\n",
        "        self.W1_1 = nn.Parameter(torch.tensor([-0.4, 0.9, 0.1]))\n",
        "        self.b1_1 = nn.Parameter(torch.tensor(-0.2))\n",
        "\n",
        "        # Combine stage (Tanh)\n",
        "        self.wc0 = nn.Parameter(torch.tensor(1.2))\n",
        "        self.wc1 = nn.Parameter(torch.tensor(-0.7))\n",
        "        self.bc = nn.Parameter(torch.tensor(0.05))\n",
        "\n",
        "        # Output layer (linear)\n",
        "        self.w20 = nn.Parameter(torch.tensor(0.9))\n",
        "        self.b20 = nn.Parameter(torch.tensor(-0.05))\n",
        "\n",
        "    def forward(self, x):\n",
        "        # --- Layer 1 ---\n",
        "        z0 = self.w00 * x + self.b00\n",
        "        a0 = torch.relu(z0)\n",
        "        z1 = self.w01 * x + self.b01\n",
        "        a1 = torch.relu(z1)\n",
        "        z2 = self.w02 * x + self.b02\n",
        "        a2 = torch.relu(z2)\n",
        "        a_vec = torch.stack([a0, a1, a2])\n",
        "\n",
        "        print(\"\\nLayer 1:\")\n",
        "        print(f\"  a_vec = {a_vec.detach().numpy()}\")\n",
        "\n",
        "        # --- Layer 2 ---\n",
        "        z1_0 = torch.dot(self.W1_0, a_vec) + self.b1_0\n",
        "        s0 = torch.sigmoid(z1_0)\n",
        "        z1_1 = torch.dot(self.W1_1, a_vec) + self.b1_1\n",
        "        s1 = torch.sigmoid(z1_1)\n",
        "        s_vec = torch.stack([s0, s1])\n",
        "\n",
        "        print(\"\\nLayer 2:\")\n",
        "        print(f\"  s_vec = {s_vec.detach().numpy()}\")\n",
        "\n",
        "        # --- Combine (Tanh) ---\n",
        "        z_comb = self.wc0 * s0 + self.wc1 * s1 + self.bc\n",
        "        c = torch.tanh(z_comb)\n",
        "        print(\"\\nCombine stage:\")\n",
        "        print(f\"  c = {c.item()}\")\n",
        "\n",
        "        # --- Output (Linear) ---\n",
        "        out = self.w20 * c + self.b20\n",
        "        print(\"\\nOutput layer:\")\n",
        "        print(f\"  out = {out.item()}\")\n",
        "\n",
        "        return out"
      ],
      "metadata": {
        "id": "aC1o4Yf9rpHa"
      },
      "execution_count": 2,
      "outputs": []
    },
    {
      "cell_type": "code",
      "source": [
        "# ---------- Run test ----------\n",
        "if __name__ == \"__main__\":\n",
        "    # Input\n",
        "    x = torch.tensor(1.5, requires_grad=True)\n",
        "\n",
        "    # Initialize model\n",
        "    model = ManualNN()\n",
        "\n",
        "    # Forward pass\n",
        "    out = model(x)\n",
        "\n",
        "    # Backward pass\n",
        "    out.backward()\n",
        "\n",
        "    print(\"\\nGradient of output w.r.t. input:\")\n",
        "    print(f\"  d(out)/d(x) = {x.grad.item()}\")"
      ],
      "metadata": {
        "colab": {
          "base_uri": "https://localhost:8080/"
        },
        "id": "O5tZx_Or0Phj",
        "outputId": "dc9d4305-558c-40af-8116-f3feb062722f"
      },
      "execution_count": 3,
      "outputs": [
        {
          "output_type": "stream",
          "name": "stdout",
          "text": [
            "\n",
            "Layer 1:\n",
            "  a_vec = [1.1        0.04999998 0.3       ]\n",
            "\n",
            "Layer 2:\n",
            "  s_vec = [0.6626218  0.36239132]\n",
            "\n",
            "Combine stage:\n",
            "  c = 0.5309536457061768\n",
            "\n",
            "Output layer:\n",
            "  out = 0.42785826325416565\n",
            "\n",
            "Gradient of output w.r.t. input:\n",
            "  d(out)/d(x) = 0.18961399793624878\n"
          ]
        }
      ]
    }
  ]
}